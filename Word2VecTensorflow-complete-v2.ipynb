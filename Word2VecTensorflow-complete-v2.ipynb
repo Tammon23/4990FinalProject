{
 "cells": [
  {
   "cell_type": "code",
   "execution_count": 2,
   "id": "024b6ff9",
   "metadata": {},
   "outputs": [
    {
     "ename": "ModuleNotFoundError",
     "evalue": "No module named 'tensorflow'",
     "output_type": "error",
     "traceback": [
      "\u001b[1;31m---------------------------------------------------------------------------\u001b[0m",
      "\u001b[1;31mModuleNotFoundError\u001b[0m                       Traceback (most recent call last)",
      "Cell \u001b[1;32mIn[2], line 9\u001b[0m\n\u001b[0;32m      6\u001b[0m \u001b[38;5;28;01mfrom\u001b[39;00m \u001b[38;5;21;01mnltk\u001b[39;00m\u001b[38;5;21;01m.\u001b[39;00m\u001b[38;5;21;01mcorpus\u001b[39;00m \u001b[38;5;28;01mimport\u001b[39;00m stopwords\n\u001b[0;32m      8\u001b[0m \u001b[38;5;28;01mimport\u001b[39;00m \u001b[38;5;21;01mnumpy\u001b[39;00m \u001b[38;5;28;01mas\u001b[39;00m \u001b[38;5;21;01mnp\u001b[39;00m\n\u001b[1;32m----> 9\u001b[0m \u001b[38;5;28;01mimport\u001b[39;00m \u001b[38;5;21;01mtensorflow\u001b[39;00m \u001b[38;5;28;01mas\u001b[39;00m \u001b[38;5;21;01mtf\u001b[39;00m\n\u001b[0;32m     10\u001b[0m \u001b[38;5;28;01mimport\u001b[39;00m \u001b[38;5;21;01mre\u001b[39;00m\n\u001b[0;32m     11\u001b[0m \u001b[38;5;28;01mimport\u001b[39;00m \u001b[38;5;21;01mnltk\u001b[39;00m\n",
      "\u001b[1;31mModuleNotFoundError\u001b[0m: No module named 'tensorflow'"
     ]
    }
   ],
   "source": [
    "from sklearn import preprocessing\n",
    "from itertools import chain\n",
    "import logging\n",
    "import gzip\n",
    "import string\n",
    "from nltk.corpus import stopwords\n",
    "\n",
    "import numpy as np\n",
    "import tensorflow as tf\n",
    "import re\n",
    "import nltk\n",
    "import sys\n",
    "from collections import OrderedDict\n",
    "from sklearn.manifold import TSNE # used to reduce demonsionality of word embeddings to shape 1, 2 for graphing\n",
    "import matplotlib.pyplot as plt\n",
    "\n",
    "\n",
    "    \n",
    "logging.basicConfig(\n",
    "    level=logging.INFO,\n",
    "    format=\"%(asctime)s : %(levelname)s : %(message)s\",\n",
    "    handlers=[\n",
    "        logging.FileHandler(\"Z:/ProjectCourse/complete.log\"),\n",
    "        logging.StreamHandler(sys.stdout)\n",
    "    ]\n",
    ")\n",
    "\n",
    "stop_words = set(stopwords.words('english')) | {\" \", \"\"}\n",
    "%matplotlib inline"
   ]
  },
  {
   "cell_type": "markdown",
   "id": "ae00ebd9",
   "metadata": {},
   "source": [
    "## Import Text and Process it"
   ]
  },
  {
   "cell_type": "code",
   "execution_count": 18,
   "id": "2ea57cca",
   "metadata": {},
   "outputs": [],
   "source": [
    "digit_regex = re.compile(rb\"^[1-9][0-9]*\\t\")\n",
    "def read_input(input_file):\n",
    "    \"\"\"This method reads the input file which is in gzip format\"\"\"\n",
    "    input_size = 0\n",
    "    logging.info(\"reading file {0}...this may take a while\".format(input_file))\n",
    "    with gzip.open(input_file, 'rb') as f:\n",
    "        for i, line in enumerate(f):\n",
    "\n",
    "            if (input_size == 3300000):\n",
    "                logging.info(\"Reached desired inpute size of 3300000\")\n",
    "                break\n",
    "\n",
    "            if (i % 100000 == 0):\n",
    "                logging.info(\"read {0} abstracts\".format(i))\n",
    "            \n",
    "\n",
    "            if len(re.sub(digit_regex, rb\"\", line)) == 1:\n",
    "                continue\n",
    "            \n",
    "            input_size += 1\n",
    "            # do some pre-processing and return list of words for each review\n",
    "            # text\n",
    "            yield gensim.utils.simple_preprocess(line)\n",
    "\n",
    "num_regex = re.compile(r\"^[1-9][0-9]*\\t\")"
   ]
  },
  {
   "cell_type": "markdown",
   "id": "70c73eb8",
   "metadata": {},
   "source": [
    "# Create a dictionary"
   ]
  },
  {
   "cell_type": "code",
   "execution_count": 24,
   "id": "d275a057",
   "metadata": {},
   "outputs": [
    {
     "name": "stdout",
     "output_type": "stream",
     "text": [
      "2022-11-23 20:49:27,018 : INFO : reading file Z:/ProjectCourse/Corpus/id_abstract.gz...this may take a while\n",
      "2022-11-23 20:49:35,914 : INFO : read 200000 abstracts\n",
      "2022-11-23 20:49:39,194 : INFO : read 300000 abstracts\n",
      "2022-11-23 20:49:42,222 : INFO : read 400000 abstracts\n",
      "2022-11-23 20:50:01,023 : INFO : Reached desired inpute size of 400000\n"
     ]
    }
   ],
   "source": [
    "input_file = \"Z:/ProjectCourse/Corpus/id_abstract.gz\"\n",
    "sentences  = list(chain(*read_input(input_file, 400000)))#3300000"
   ]
  },
  {
   "cell_type": "code",
   "execution_count": null,
   "id": "08a4ccf3",
   "metadata": {},
   "outputs": [],
   "source": [
    "# get the vocabulary\n",
    "words = set()\n",
    "for sentence in sentences:\n",
    "    words = words.union(set(sentence))\n",
    "    \n",
    "word2int = {}\n",
    "int2word = {}\n",
    "vocab_size = len(words) # gives the total number of unique words\n",
    "for i,word in enumerate(words):\n",
    "    word2int[word] = i\n",
    "    int2word[i] = word\n",
    "    "
   ]
  },
  {
   "cell_type": "markdown",
   "id": "82405846",
   "metadata": {},
   "source": [
    "# Generate training data"
   ]
  },
  {
   "cell_type": "code",
   "execution_count": 48,
   "id": "63bf736c",
   "metadata": {},
   "outputs": [
    {
     "name": "stdout",
     "output_type": "stream",
     "text": [
      "[['he', 'is'], ['he', 'the'], ['is', 'he'], ['is', 'the'], ['is', 'king'], ['the', 'he'], ['the', 'is'], ['the', 'king'], ['king', 'is'], ['king', 'the'], ['the', 'king'], ['the', 'is'], ['king', 'the'], ['king', 'is'], ['king', 'royal'], ['is', 'the'], ['is', 'king'], ['is', 'royal'], ['royal', 'king'], ['royal', 'is'], ['she', 'is'], ['she', 'the'], ['is', 'she'], ['is', 'the'], ['is', 'royal'], ['the', 'she'], ['the', 'is'], ['the', 'royal'], ['the', 'queen'], ['royal', 'is'], ['royal', 'the'], ['royal', 'queen'], ['queen', 'the'], ['queen', 'royal']]\n"
     ]
    }
   ],
   "source": [
    "# Creates a of word pairs with a window size of 10\n",
    "# Where up to 10 words before and 10 words after the occurce of the center word\n",
    "# from our corpus\n",
    "data = []\n",
    "WINDOW_SIZE = 10\n",
    "for sentence in sentences:\n",
    "    for word_index, word in enumerate(sentence):\n",
    "        for nb_word in sentence[max(word_index - WINDOW_SIZE, 0) : min(word_index + WINDOW_SIZE, len(sentence)) + 1] : \n",
    "            if nb_word != word:\n",
    "                data.append([word, nb_word])\n",
    "                \n",
    "print(data)"
   ]
  },
  {
   "cell_type": "code",
   "execution_count": null,
   "id": "739a09c7",
   "metadata": {},
   "outputs": [],
   "source": [
    "input_training_data = []\n",
    "output_training_data = []\n",
    "temp = []\n",
    "window_size = 10\n",
    "for i in range(len(words)):\n",
    "    f = i - window_size\n",
    "    end = i + window_size\n",
    "    selected_word = words[i]\n",
    "    for j in range(start, i):\n",
    "        if j >= 0:\n",
    "            temp.append((selected_word, words[j]))\n",
    "    for j in range(i + 1, end):\n",
    "        if j < len(vocab):\n",
    "            temp.append((selected_word, words[j]))\n",
    "\n",
    "# creating one hot encodings \n",
    "for pair in temp_dict:\n",
    "    temp_input = np.zeros(len(vocab))\n",
    "    temp_output = np.zeros(len(vocab))\n",
    "    \n",
    "    temp_input[char_to_int[pair[0]]] = 1\n",
    "    temp_output[char_to_int[pair[1]]] = 1\n",
    "    \n",
    "    input_training_data .append(temp_input)\n",
    "    output_training_data.append(temp_output)"
   ]
  },
  {
   "cell_type": "code",
   "execution_count": null,
   "id": "745be699",
   "metadata": {},
   "outputs": [],
   "source": [
    "def train(epochs, input_training_data, output_training_data, batch_size, optimizer, x, y):\n",
    "    \n",
    "    nbatches = int(len(input_training_data)/batch_size)\n",
    "    \n",
    "    init = tf.global_variables_initializer()\n",
    "    gpu_options = tf.GPUOptions(per_process_gpu_memory_fraction = 0.40)\n",
    "    sess = tf.Session(config = tf.ConfigProto(gpu_options = gpu_options))\n",
    "    sess.run(init)\n",
    "    saver = tf.train.Saver()\n",
    "\n",
    "    for epoch in range(epochs):\n",
    "        cost = 0\n",
    "        for i in range(nbatches-1):\n",
    "            batch_x = input_training_data[i * batch_size :(i + 1) * batch_size]\n",
    "            batch_y = output_training_data[i * batch_size :(i + 1) * batch_size]\n",
    "            _, j = sess.run([optimizer, cost], feed_dict = {x:batch_x, y:batch_y})\n",
    "            cost += j / nbatches\n",
    "        logging.info(f\"Current epoch: {epoch}, Cost: {cost}\")\n",
    "    return saver.save(sess,'./saved_complete_v2_models/complete.weights')"
   ]
  },
  {
   "cell_type": "code",
   "execution_count": null,
   "id": "0701233a",
   "metadata": {},
   "outputs": [],
   "source": [
    "embedding_size = 300\n",
    "learning_rate = 0.025\n",
    "\n",
    "x = tf.placeholder(tf.float32,shape = (None,len(vocab)))\n",
    "y = tf.placeholder(tf.float32,shape = (None,len(vocab)))\n",
    "\n",
    "weight1 = tf.Variable(tf.random_normal([len(vocab), embedding_size]),dtype = tf.float32)\n",
    "bias1 = tf.Variable(tf.random_normal([embedding_size]), dtype = tf.float32)\n",
    "weight2 = tf.Variable(tf.random_normal([embedding_size, len(vocab)]), dtype = tf.float32)\n",
    "bias2 = tf.Variable(tf.random_normal([len(vocab)]), dtype = tf.float32)\n",
    "\n",
    "hidden_y = tf.matmul(tf.matmul(x,weight11) + bias1,weight2) + bias2\n",
    "\n",
    "cost = tf.reduce_mean(tf.losses.mean_squared_error(hidden_y,y))\n",
    "optimizer = tf.train.AdamOptimizer(learning_rate).minimize(cost)\n",
    "\n",
    "batch_size = 10000\n",
    "epochs = 10\n",
    "train(epochs, input_training_data, output_training_data, batch_size, optimizer, x, y)\n"
   ]
  },
  {
   "cell_type": "code",
   "execution_count": null,
   "id": "838a84cb",
   "metadata": {},
   "outputs": [],
   "source": []
  },
  {
   "cell_type": "code",
   "execution_count": null,
   "id": "0d6843e9",
   "metadata": {},
   "outputs": [],
   "source": [
    "\n",
    "\n",
    "embeddings = dict()\n",
    "for i in vocab:\n",
    "    temp_a = np.zeros([1,len(vocab)])\n",
    "    temp_a[0][char_to_int[i]] = 1\n",
    "    temp_emb = sess.run([_y],feed_dict = {x:temp_a})\n",
    "    temp_emb = np.array(temp_emb)\n",
    "    #print(temp_emb.shape)\n",
    "    embeddings[i] = temp_emb.reshape([len(vocab)])\n",
    "    #print(embeddings[i].shape)"
   ]
  },
  {
   "cell_type": "markdown",
   "id": "d8ca9f60",
   "metadata": {},
   "source": [
    "## Looking at the hidden representations Weight1 and bias1\n"
   ]
  },
  {
   "cell_type": "code",
   "execution_count": 53,
   "id": "01a6c0a2",
   "metadata": {},
   "outputs": [
    {
     "name": "stdout",
     "output_type": "stream",
     "text": [
      "[[-2.4667048  -1.0390921   0.5201295  -0.42721358  0.33458644]\n",
      " [-0.11102659  0.20847504  1.623999   -0.01977071  3.474004  ]\n",
      " [ 0.627525   -0.4716701   1.4797018   0.13992879 -0.8566276 ]\n",
      " [ 0.6442408  -0.42976695 -0.5576406   0.9899494   1.5625219 ]\n",
      " [ 0.5571808  -0.13938767 -1.3208493  -2.4646916  -0.6998081 ]\n",
      " [ 0.8087424  -0.55020505  1.6411406   0.12971856 -0.68120277]\n",
      " [ 0.6365183  -0.01430083 -1.9740577   0.99436265 -1.2716385 ]]\n",
      "--------------------------\n",
      "[ 1.0741833  -0.1815876   0.65087634  0.10639327 -1.0893831 ]\n",
      "--------------------------\n"
     ]
    }
   ],
   "source": [
    "print(sess.run(weight1))\n",
    "print('--------------------------')\n",
    "print(sess.run(bias1))\n",
    "print('--------------------------')"
   ]
  },
  {
   "cell_type": "code",
   "execution_count": 54,
   "id": "40f4fc10",
   "metadata": {},
   "outputs": [
    {
     "name": "stdout",
     "output_type": "stream",
     "text": [
      "[[-1.3925215  -1.2206796   1.1710058  -0.3208203  -0.7547967 ]\n",
      " [ 0.96315676  0.02688743  2.2748754   0.08662256  2.384621  ]\n",
      " [ 1.7017083  -0.6532577   2.130578    0.24632207 -1.9460107 ]\n",
      " [ 1.7184241  -0.6113546   0.09323573  1.0963427   0.4731388 ]\n",
      " [ 1.6313641  -0.32097527 -0.66997296 -2.3582983  -1.7891912 ]\n",
      " [ 1.8829257  -0.7317927   2.292017    0.23611182 -1.7705859 ]\n",
      " [ 1.7107017  -0.19588844 -1.3231814   1.1007559  -2.3610215 ]]\n"
     ]
    }
   ],
   "source": [
    "vectors = sess.run(weight1 + bias1)\n",
    "print(vectors)"
   ]
  },
  {
   "cell_type": "code",
   "execution_count": 55,
   "id": "ee0e6e59",
   "metadata": {},
   "outputs": [
    {
     "name": "stdout",
     "output_type": "stream",
     "text": [
      "[ 1.7184241  -0.6113546   0.09323573  1.0963427   0.4731388 ]\n"
     ]
    }
   ],
   "source": [
    "# Getting the representation of a word, i.e., queen\n",
    "print(vectors[word2int['queen']])"
   ]
  },
  {
   "cell_type": "markdown",
   "id": "350e805f",
   "metadata": {},
   "source": [
    "## Dirty imlpementation for finding the closest vector to a given word using euclidean distance"
   ]
  },
  {
   "cell_type": "code",
   "execution_count": 56,
   "id": "95411c89",
   "metadata": {},
   "outputs": [],
   "source": [
    "# should the vectors be normalized before finding closest neighbour\n",
    "def euclidean_dist(vec1, vec2):\n",
    "    return np.sqrt(np.sum((vec1-vec2)**2))\n",
    "\n",
    "def find_closest(word_index, vectors):\n",
    "    min_dist = 10000 # to act like positive infinity\n",
    "    min_index = -1    \n",
    "    query_vector = vectors[word_index]    \n",
    "    for index, vector in enumerate(vectors):\n",
    "        if euclidean_dist(vector, query_vector) < min_dist and not np.array_equal(vector, query_vector):\n",
    "            min_dist = euclidean_dist(vector, query_vector)\n",
    "            min_index = index\n",
    "            return min_index"
   ]
  },
  {
   "cell_type": "code",
   "execution_count": 57,
   "id": "00ac2010",
   "metadata": {},
   "outputs": [
    {
     "name": "stdout",
     "output_type": "stream",
     "text": [
      "king --> royal\n",
      "queen --> royal\n",
      "royal --> king\n"
     ]
    }
   ],
   "source": [
    "print('king', '-->', int2word[find_closest(word2int['king'], vectors)])\n",
    "print('queen', '-->', int2word[find_closest(word2int['queen'], vectors)])\n",
    "print('royal', '-->', int2word[find_closest(word2int['royal'], vectors)])"
   ]
  },
  {
   "cell_type": "markdown",
   "id": "08687686",
   "metadata": {},
   "source": [
    "## Plotting the vectors"
   ]
  },
  {
   "cell_type": "code",
   "execution_count": 58,
   "id": "7af31a9f",
   "metadata": {},
   "outputs": [],
   "source": [
    "model = TSNE(n_components=2, random_state=0)\n",
    "np.set_printoptions(suppress=True)\n",
    "vectors = model.fit_transform(vectors) \n",
    "\n",
    "normalizer = preprocessing.Normalizer()\n",
    "vectors =  normalizer.fit_transform(vectors, 'l2')"
   ]
  },
  {
   "cell_type": "code",
   "execution_count": 59,
   "id": "02528c1b",
   "metadata": {},
   "outputs": [
    {
     "name": "stdout",
     "output_type": "stream",
     "text": [
      "{'royal', 'king', 'she', 'queen', 'the', 'he', 'is'}\n",
      "royal 0.89717036\n",
      "king 0.25030422\n",
      "she 0.96019673\n",
      "queen 0.5068005\n",
      "the -0.9047838\n",
      "he 0.9838481\n",
      "is -0.4028841\n"
     ]
    },
    {
     "data": {
      "image/png": "[encoded data removed]",
      "text/plain": [
       "<Figure size 432x288 with 1 Axes>"
      ]
     },
     "metadata": {
      "needs_background": "light"
     },
     "output_type": "display_data"
    }
   ],
   "source": [
    "fig, ax = plt.subplots()\n",
    "print(words)\n",
    "for word in words:\n",
    "    print(word, vectors[word2int[word]][1])\n",
    "    ax.annotate(word, (vectors[word2int[word]][0],vectors[word2int[word]][1] ))\n",
    "    ax.set_xlim(min([vectors[word2int[w]][0] for w in words])-1, max([vectors[word2int[w]][0] for w in words])+1)\n",
    "    ax.set_ylim(min([vectors[word2int[w]][1] for w in words])-1, max([vectors[word2int[w]][1] for w in words])+1)\n",
    "plt.show()"
   ]
  }
 ],
 "metadata": {
  "kernelspec": {
   "display_name": "Python 3 (ipykernel)",
   "language": "python",
   "name": "python3"
  },
  "language_info": {
   "codemirror_mode": {
    "name": "ipython",
    "version": 3
   },
   "file_extension": ".py",
   "mimetype": "text/x-python",
   "name": "python",
   "nbconvert_exporter": "python",
   "pygments_lexer": "ipython3",
   "version": "3.8.6"
  }
 },
 "nbformat": 4,
 "nbformat_minor": 5
}
